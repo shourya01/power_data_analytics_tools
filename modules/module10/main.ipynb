{
 "cells": [
  {
   "cell_type": "code",
   "execution_count": 1,
   "id": "6d3c56d3",
   "metadata": {},
   "outputs": [
    {
     "name": "stdout",
     "output_type": "stream",
     "text": [
      "Done 11.11111111111111 percent of calculations.\n",
      "Done 22.22222222222222 percent of calculations.\n",
      "Done 33.333333333333336 percent of calculations.\n",
      "Done 44.44444444444444 percent of calculations.\n",
      "Done 55.55555555555556 percent of calculations.\n",
      "Done 66.66666666666667 percent of calculations.\n",
      "Done 77.77777777777777 percent of calculations.\n",
      "Done 88.88888888888889 percent of calculations.\n",
      "Done 100.0 percent of calculations.\n"
     ]
    },
    {
     "data": {
      "image/png": "[encoded data removed]",
      "text/plain": [
       "<Figure size 432x288 with 1 Axes>"
      ]
     },
     "metadata": {
      "needs_background": "light"
     },
     "output_type": "display_data"
    }
   ],
   "source": [
    "import pandas as pd\n",
    "from sklearn.model_selection import train_test_split\n",
    "import numpy as np\n",
    "from scipy.stats import bernoulli\n",
    "from statsmodels.tsa.arima.model import ARIMA\n",
    "import matplotlib.dates as mdates\n",
    "import warnings\n",
    "import matplotlib.pyplot as plt\n",
    "\n",
    "\n",
    "warnings.simplefilter('ignore', np.RankWarning) # ignore RankWarning from polyfit\n",
    "warnings.simplefilter('ignore', UserWarning) # ignore UserWarning from ARIMA\n",
    "\n",
    "df = pd.read_csv(\"power_generation_processed.csv\")\n",
    "df = df.replace(0.0, 1.0)\n",
    "df = df.replace(np.inf, np.nan).replace(-np.inf, np.nan).fillna(value=1)\n",
    "\n",
    "X = df.pop(\"Timestamp\")\n",
    "y = df.pop(\"Solar PV\")\n",
    "\n",
    "x_train, x_test, y_train, y_test = train_test_split(X, y, test_size=0.33, random_state=42, shuffle=False)\n",
    "\n",
    "# print(f\"No. of training examples: {training_data.shape[0]}\")\n",
    "# print(f\"No. of testing examples: {testing_data.shape[0]}\")\n",
    "\n",
    "def prepare_dataset(df_timestamps):\n",
    "    for i in range(len(df_timestamps)):\n",
    "        value = int(df_timestamps[i][11:13])\n",
    "        value -= 1\n",
    "        value = \"{:02d}\".format(value)\n",
    "        value = str(value)\n",
    "        value = df_timestamps[i][0:11] + value\n",
    "        df_timestamps[i] = value\n",
    "\n",
    "    df_timestamps = pd.to_datetime(df_timestamps)\n",
    "    df_timestamps = mdates.date2num(df_timestamps)\n",
    "\n",
    "    return df_timestamps\n",
    "\n",
    "x_train = prepare_dataset(x_train)\n",
    "y_train = y_train.to_numpy()\n",
    "\n",
    "r = list(map(lambda x: x/10.0, range(1, 10)))\n",
    "n_trial_total = 50\n",
    "vl = np.zeros(np.shape(r))\n",
    "\n",
    "i = 0\n",
    "for rcur in r:\n",
    "    rcur_loss = 0\n",
    "    count = 0\n",
    "    for n_trial in range(n_trial_total):\n",
    "        boole = bernoulli(rcur)\n",
    "        dropped_index = boole.rvs(x_train.size)\n",
    "        x_train_drp = x_train[dropped_index==1]\n",
    "        y_train_drp = y_train[dropped_index==1]\n",
    "        x_train_ret = x_train[dropped_index==0]\n",
    "        y_train_ret = y_train[dropped_index==0]\n",
    "        # now we find best polynomial degree for regression to filled dropped data points\n",
    "        best_deg = np.inf\n",
    "        best_loss = np.inf\n",
    "        best_coeff = []\n",
    "        for deg in range(20):\n",
    "            # print(deg)\n",
    "            # print(x_train_ret,y_train_ret)\n",
    "            coeff = np.polyfit(x_train_ret,y_train_ret,deg)\n",
    "            y_train_drp_pred = np.polyval(coeff,x_train_drp)\n",
    "            cur_loss = np.sum((y_train_drp_pred-y_train_drp)**2)\n",
    "            if cur_loss < best_loss:\n",
    "                best_loss = cur_loss\n",
    "                best_def = deg\n",
    "                best_coeff = []\n",
    "        # now we reconstruct the filled x and y training values\n",
    "        x_train_filled = x_train\n",
    "        y_train_filled = np.zeros(np.size(y_train))\n",
    "        y_train_filled[dropped_index==0] = y_train_ret\n",
    "        y_train_filled[dropped_index==1] = np.polyval(best_coeff,x_train_drp)\n",
    "        # now we predict the time series (y-values) FORWARD with ARIMA\n",
    "        model = ARIMA(y_train_filled,order = (1,0,1))\n",
    "        model_fit = model.fit()\n",
    "        y_test_pred = model_fit.predict(y_train_filled.size,y_train_filled.size+x_test.size-1)\n",
    "        cur_loss_arima = np.sum((y_test_pred-y_test)**2)\n",
    "        rcur_loss += cur_loss_arima\n",
    "    count += 1\n",
    "    rcur_loss /= count\n",
    "    vl[i] = rcur_loss\n",
    "    print('Done '+str((i+1)*100/len(r))+' percent of calculations.')\n",
    "    i += 1\n",
    "\n",
    "plt.plot(r,vl)\n",
    "plt.xlim((min(r),max(r)))\n",
    "plt.xlabel('Probability of dropping datapoint')\n",
    "plt.ylabel('ARIMA validation loss')\n",
    "plt.show()\n"
   ]
  }
 ],
 "metadata": {
  "kernelspec": {
   "display_name": "Python 3 (ipykernel)",
   "language": "python",
   "name": "python3"
  },
  "language_info": {
   "codemirror_mode": {
    "name": "ipython",
    "version": 3
   },
   "file_extension": ".py",
   "mimetype": "text/x-python",
   "name": "python",
   "nbconvert_exporter": "python",
   "pygments_lexer": "ipython3",
   "version": "3.9.7"
  }
 },
 "nbformat": 4,
 "nbformat_minor": 5
}
